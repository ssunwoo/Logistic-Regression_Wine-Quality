{
 "cells": [
  {
   "cell_type": "code",
   "execution_count": 1,
   "id": "a1940ae9",
   "metadata": {},
   "outputs": [],
   "source": [
    "import tensorflow as tf\n",
    "import numpy as np\n",
    "from datetime import datetime\n",
    "\n",
    "learning_rate = 0.01\n",
    "seed = 0\n",
    "np.random.seed(seed)\n",
    "tf.random.set_seed(seed)"
   ]
  },
  {
   "cell_type": "code",
   "execution_count": 2,
   "id": "baceba48",
   "metadata": {},
   "outputs": [
    {
     "name": "stdout",
     "output_type": "stream",
     "text": [
      "[[ 7.4    0.7    0.    ...  0.56   9.4    5.   ]\n",
      " [ 7.8    0.88   0.    ...  0.68   9.8    5.   ]\n",
      " [ 7.8    0.76   0.04  ...  0.65   9.8    5.   ]\n",
      " ...\n",
      " [ 6.3    0.51   0.13  ...  0.75  11.     6.   ]\n",
      " [ 5.9    0.645  0.12  ...  0.71  10.2    5.   ]\n",
      " [ 6.     0.31   0.47  ...  0.66  11.     6.   ]]\n"
     ]
    }
   ],
   "source": [
    "data = np.loadtxt('C:/Users/Sunwoo/workspace/winequality-red2.csv', delimiter=';')\n",
    "print(data)"
   ]
  },
  {
   "cell_type": "code",
   "execution_count": 3,
   "id": "0d94fb95",
   "metadata": {},
   "outputs": [
    {
     "name": "stdout",
     "output_type": "stream",
     "text": [
      "[[ 7.4    0.7    0.    ...  3.51   0.56   9.4  ]\n",
      " [ 7.8    0.88   0.    ...  3.2    0.68   9.8  ]\n",
      " [ 7.8    0.76   0.04  ...  3.26   0.65   9.8  ]\n",
      " ...\n",
      " [ 6.3    0.51   0.13  ...  3.42   0.75  11.   ]\n",
      " [ 5.9    0.645  0.12  ...  3.57   0.71  10.2  ]\n",
      " [ 6.     0.31   0.47  ...  3.39   0.66  11.   ]]\n",
      "[[5.]\n",
      " [5.]\n",
      " [5.]\n",
      " ...\n",
      " [6.]\n",
      " [5.]\n",
      " [6.]]\n"
     ]
    }
   ],
   "source": [
    "x_data = data[:, 0:-1]    #fixed acidity;\"volatile acidity\";\"citric acid\";\"residual sugar\";\"chlorides\";\"free sulfur dioxide\";\"total sulfur dioxide\";\"density\";\"pH\";\"sulphates\";\"alcohol\"\n",
    "y_data = data[:, [-1]]    #\"quality\"\n",
    "print(x_data)\n",
    "print(y_data)"
   ]
  },
  {
   "cell_type": "code",
   "execution_count": 4,
   "id": "f81297a8",
   "metadata": {},
   "outputs": [
    {
     "name": "stdout",
     "output_type": "stream",
     "text": [
      "[[0]\n",
      " [0]\n",
      " [0]\n",
      " ...\n",
      " [0]\n",
      " [0]\n",
      " [0]]\n"
     ]
    }
   ],
   "source": [
    "#1 if y >= 7, 0 if y < 7\n",
    "y_data = np.array([1 if i>=7 else 0 for i in y_data]).reshape(len(x_data), 1)\n",
    "print(y_data)"
   ]
  },
  {
   "cell_type": "code",
   "execution_count": 5,
   "id": "96df7e30",
   "metadata": {},
   "outputs": [
    {
     "name": "stdout",
     "output_type": "stream",
     "text": [
      "WARNING:tensorflow:From C:\\Users\\Sunwoo\\anaconda3\\envs\\tf_2_5\\lib\\site-packages\\tensorflow\\python\\ops\\summary_ops_v2.py:1263: start (from tensorflow.python.eager.profiler) is deprecated and will be removed after 2020-07-01.\n",
      "Instructions for updating:\n",
      "use `tf.profiler.experimental.start` instead.\n",
      "WARNING:tensorflow:From C:\\Users\\Sunwoo\\anaconda3\\envs\\tf_2_5\\lib\\site-packages\\tensorflow\\python\\ops\\summary_ops_v2.py:1319: stop (from tensorflow.python.eager.profiler) is deprecated and will be removed after 2020-07-01.\n",
      "Instructions for updating:\n",
      "use `tf.profiler.experimental.stop` instead.\n",
      "WARNING:tensorflow:From C:\\Users\\Sunwoo\\anaconda3\\envs\\tf_2_5\\lib\\site-packages\\tensorflow\\python\\ops\\summary_ops_v2.py:1319: save (from tensorflow.python.eager.profiler) is deprecated and will be removed after 2020-07-01.\n",
      "Instructions for updating:\n",
      "`tf.python.eager.profiler` has deprecated, use `tf.profiler` instead.\n",
      "WARNING:tensorflow:From C:\\Users\\Sunwoo\\anaconda3\\envs\\tf_2_5\\lib\\site-packages\\tensorflow\\python\\eager\\profiler.py:151: maybe_create_event_file (from tensorflow.python.eager.profiler) is deprecated and will be removed after 2020-07-01.\n",
      "Instructions for updating:\n",
      "`tf.python.eager.profiler` has deprecated, use `tf.profiler` instead.\n",
      "Epoch : 0, loss : 9.3157\n",
      "Epoch : 1000, loss : 0.3971\n",
      "Epoch : 2000, loss : 0.3971\n",
      "Epoch : 3000, loss : 0.3971\n",
      "Epoch : 4000, loss : 0.3971\n",
      "Epoch : 5000, loss : 0.3971\n",
      "Epoch : 6000, loss : 0.3971\n",
      "Epoch : 7000, loss : 0.3971\n",
      "Epoch : 8000, loss : 0.3971\n",
      "Epoch : 9000, loss : 0.3971\n",
      "Epoch : 10000, loss : 0.3971\n",
      "Hypothesis : [[0.13570982]\n",
      " [0.13570982]\n",
      " [0.13570982]\n",
      " ...\n",
      " [0.13570982]\n",
      " [0.13570982]\n",
      " [0.13570982]] Predicted : [[0.]\n",
      " [0.]\n",
      " [0.]\n",
      " ...\n",
      " [0.]\n",
      " [0.]\n",
      " [0.]] Accuracy : 0.8642901813633521\n"
     ]
    }
   ],
   "source": [
    "w1 = tf.Variable(tf.random.uniform([11, 20], dtype=tf.float64))\n",
    "b1 = tf.Variable(tf.random.uniform([20], dtype=tf.float64))\n",
    "w2 = tf.Variable(tf.random.uniform([20, 20], dtype=tf.float64))\n",
    "b2 = tf.Variable(tf.random.uniform([20], dtype=tf.float64))\n",
    "w3 = tf.Variable(tf.random.uniform([20, 20], dtype=tf.float64))\n",
    "b3 = tf.Variable(tf.random.uniform([20], dtype=tf.float64))\n",
    "w4 = tf.Variable(tf.random.uniform([20, 1], dtype=tf.float64))\n",
    "b4 = tf.Variable(tf.random.uniform([1], dtype=tf.float64))\n",
    "\n",
    "def hypothesis() :\n",
    "    layer1 = tf.sigmoid(tf.matmul(x_data, w1) + b1)\n",
    "    layer2 = tf.sigmoid(tf.matmul(layer1, w2) + b2)\n",
    "    layer3 = tf.sigmoid(tf.matmul(layer2, w3) + b3)\n",
    "    h = tf.sigmoid(tf.matmul(layer3, w4) + b4)\n",
    "    return h\n",
    "\n",
    "@tf.function\n",
    "def costFunc() :\n",
    "    return -tf.reduce_mean(y_data * tf.math.log(hypothesis()) + (1 - y_data) * tf.math.log(1 - hypothesis()))\n",
    "\n",
    "stamp = datetime.now().strftime('%Y%m%d-%H%M%S')\n",
    "logdir = 'logs/mylogs/%s' % stamp\n",
    "writer = tf.summary.create_file_writer(logdir)\n",
    "tf.summary.trace_on(graph=True, profiler=True)\n",
    "costFunc()\n",
    "with writer.as_default() :\n",
    "    tf.summary.trace_export(name='graph_t1', step=0, profiler_outdir=logdir)\n",
    "\n",
    "opt = tf.keras.optimizers.SGD(learning_rate)\n",
    "for step in range(10001) :\n",
    "    opt.minimize(costFunc, var_list=[w1, b1, w2, b2, w3, b3, w4, b4])\n",
    "    predicted = tf.cast(hypothesis() > 0.5, dtype=tf.float64)\n",
    "    accuracy = tf.reduce_mean(tf.cast(tf.equal(predicted, y_data), dtype=tf.float64))\n",
    "    if step % 1000 == 0 :\n",
    "        print(\"Epoch : %.f, loss : %.4f\" % (step, costFunc()))\n",
    "print(\"Hypothesis :\", hypothesis().numpy(), \"Predicted :\", predicted.numpy(), \"Accuracy :\", accuracy.numpy())"
   ]
  },
  {
   "cell_type": "code",
   "execution_count": 6,
   "id": "684859d0",
   "metadata": {},
   "outputs": [
    {
     "data": {
      "text/plain": [
       "Reusing TensorBoard on port 6006 (pid 8428), started 7 days, 5:42:08 ago. (Use '!kill 8428' to kill it.)"
      ]
     },
     "metadata": {},
     "output_type": "display_data"
    },
    {
     "data": {
      "text/html": [
       "\n",
       "      <iframe id=\"tensorboard-frame-15c28952870298e4\" width=\"100%\" height=\"800\" frameborder=\"0\">\n",
       "      </iframe>\n",
       "      <script>\n",
       "        (function() {\n",
       "          const frame = document.getElementById(\"tensorboard-frame-15c28952870298e4\");\n",
       "          const url = new URL(\"/\", window.location);\n",
       "          const port = 6006;\n",
       "          if (port) {\n",
       "            url.port = port;\n",
       "          }\n",
       "          frame.src = url;\n",
       "        })();\n",
       "      </script>\n",
       "    "
      ],
      "text/plain": [
       "<IPython.core.display.HTML object>"
      ]
     },
     "metadata": {},
     "output_type": "display_data"
    }
   ],
   "source": [
    "%load_ext tensorboard\n",
    "%tensorboard --logdir=logs/mylogs"
   ]
  }
 ],
 "metadata": {
  "kernelspec": {
   "display_name": "Python 3 (ipykernel)",
   "language": "python",
   "name": "python3"
  },
  "language_info": {
   "codemirror_mode": {
    "name": "ipython",
    "version": 3
   },
   "file_extension": ".py",
   "mimetype": "text/x-python",
   "name": "python",
   "nbconvert_exporter": "python",
   "pygments_lexer": "ipython3",
   "version": "3.8.11"
  }
 },
 "nbformat": 4,
 "nbformat_minor": 5
}
