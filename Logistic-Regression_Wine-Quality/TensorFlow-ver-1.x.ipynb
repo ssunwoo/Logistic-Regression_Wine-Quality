{
 "cells": [
  {
   "cell_type": "code",
   "execution_count": 1,
   "id": "39e5c666",
   "metadata": {},
   "outputs": [
    {
     "name": "stdout",
     "output_type": "stream",
     "text": [
      "WARNING:tensorflow:From C:\\Users\\Sunwoo\\anaconda3\\envs\\tf_2_5\\lib\\site-packages\\tensorflow\\python\\compat\\v2_compat.py:96: disable_resource_variables (from tensorflow.python.ops.variable_scope) is deprecated and will be removed in a future version.\n",
      "Instructions for updating:\n",
      "non-resource variables are not supported in the long term\n"
     ]
    }
   ],
   "source": [
    "#### Based on lecture of LikeLion AI School ####\n",
    "\n",
    "import tensorflow.compat.v1 as tf\n",
    "tf.disable_v2_behavior()\n",
    "import numpy as np\n",
    "import matplotlib.pyplot as plt"
   ]
  },
  {
   "cell_type": "code",
   "execution_count": 2,
   "id": "9db81d3b",
   "metadata": {},
   "outputs": [],
   "source": [
    "los, acc = [], []\n",
    "\n",
    "def graph() :\n",
    "    fig, ax0 = plt.subplots()\n",
    "    ax1 = ax0.twinx()\n",
    "    ax0.set_title('Loss and Accuracy per Epochs')\n",
    "    ax0.set_xlabel('epochs')\n",
    "    ax0.plot(los, 'r-', label='loss')\n",
    "    ax0.set_ylabel('loss')\n",
    "    ax0.axis([0, epochs, 0, 1])\n",
    "    ax0.grid(True)\n",
    "    ax1.plot(acc, 'b-', label='accuracy')\n",
    "    ax1.set_ylabel('accuracy')\n",
    "    ax1.axis([0, epochs, 0, 1])\n",
    "    ax1.grid(False)\n",
    "    plt.legend(loc=2)\n",
    "    plt.show()"
   ]
  },
  {
   "cell_type": "code",
   "execution_count": 3,
   "id": "4a83b400",
   "metadata": {},
   "outputs": [
    {
     "name": "stdout",
     "output_type": "stream",
     "text": [
      "[[ 7.4    0.7    0.    ...  0.56   9.4    5.   ]\n",
      " [ 7.8    0.88   0.    ...  0.68   9.8    5.   ]\n",
      " [ 7.8    0.76   0.04  ...  0.65   9.8    5.   ]\n",
      " ...\n",
      " [ 6.3    0.51   0.13  ...  0.75  11.     6.   ]\n",
      " [ 5.9    0.645  0.12  ...  0.71  10.2    5.   ]\n",
      " [ 6.     0.31   0.47  ...  0.66  11.     6.   ]]\n"
     ]
    }
   ],
   "source": [
    "data = np.loadtxt('C:/Users/Sunwoo/workspace/winequality-red2.csv', delimiter=';')\n",
    "print(data)"
   ]
  },
  {
   "cell_type": "code",
   "execution_count": 4,
   "id": "1b46e7d9",
   "metadata": {},
   "outputs": [
    {
     "name": "stdout",
     "output_type": "stream",
     "text": [
      "[[ 7.4    0.7    0.    ...  3.51   0.56   9.4  ]\n",
      " [ 7.8    0.88   0.    ...  3.2    0.68   9.8  ]\n",
      " [ 7.8    0.76   0.04  ...  3.26   0.65   9.8  ]\n",
      " ...\n",
      " [ 6.3    0.51   0.13  ...  3.42   0.75  11.   ]\n",
      " [ 5.9    0.645  0.12  ...  3.57   0.71  10.2  ]\n",
      " [ 6.     0.31   0.47  ...  3.39   0.66  11.   ]]\n",
      "[[5.]\n",
      " [5.]\n",
      " [5.]\n",
      " ...\n",
      " [6.]\n",
      " [5.]\n",
      " [6.]]\n"
     ]
    }
   ],
   "source": [
    "x_data = data[:, 0:-1]    #fixed acidity;\"volatile acidity\";\"citric acid\";\"residual sugar\";\"chlorides\";\"free sulfur dioxide\";\"total sulfur dioxide\";\"density\";\"pH\";\"sulphates\";\"alcohol\"\n",
    "y_data = data[:, [-1]]    #\"quality\"\n",
    "print(x_data)\n",
    "print(y_data)"
   ]
  },
  {
   "cell_type": "code",
   "execution_count": 5,
   "id": "a20e373d",
   "metadata": {},
   "outputs": [
    {
     "name": "stdout",
     "output_type": "stream",
     "text": [
      "[[0]\n",
      " [0]\n",
      " [0]\n",
      " ...\n",
      " [0]\n",
      " [0]\n",
      " [0]]\n"
     ]
    }
   ],
   "source": [
    "#1 if y >= 7, 0 if y < 7\n",
    "y_data = np.array([1 if i>=7 else 0 for i in y_data]).reshape(len(x_data), 1)\n",
    "print(y_data)"
   ]
  },
  {
   "cell_type": "code",
   "execution_count": 6,
   "id": "caca1d61",
   "metadata": {},
   "outputs": [
    {
     "name": "stdout",
     "output_type": "stream",
     "text": [
      "Epoch : 0, loss : 1.7576\n",
      "Epoch : 1000, loss : 0.3879\n",
      "Epoch : 2000, loss : 0.3774\n",
      "Epoch : 3000, loss : 0.3694\n",
      "Epoch : 4000, loss : 0.3660\n",
      "Epoch : 5000, loss : 0.3636\n",
      "Epoch : 6000, loss : 0.3617\n",
      "Epoch : 7000, loss : 0.3600\n",
      "Epoch : 8000, loss : 0.3581\n",
      "Epoch : 9000, loss : 0.3561\n",
      "\n",
      "Hypothesis : [[0.07102089]\n",
      " [0.0589331 ]\n",
      " [0.06179593]\n",
      " ...\n",
      " [0.22341108]\n",
      " [0.15119959]\n",
      " [0.16178775]] \n",
      "Predicted : [[0.]\n",
      " [0.]\n",
      " [0.]\n",
      " ...\n",
      " [0.]\n",
      " [0.]\n",
      " [0.]] \n",
      "Accuracy : 0.8642901813633521\n"
     ]
    }
   ],
   "source": [
    "learning_rate = 0.01\n",
    "epochs = 10000\n",
    "seed = 0\n",
    "np.random.seed(seed)\n",
    "tf.set_random_seed(seed)\n",
    "\n",
    "X = tf.placeholder(tf.float64, shape=[None, 11])\n",
    "Y = tf.placeholder(tf.float64, shape=[None, 1])\n",
    "\n",
    "w1 = tf.Variable(tf.random_normal([11, 20], dtype=tf.float64))\n",
    "b1 = tf.Variable(tf.random_normal([20], dtype=tf.float64))\n",
    "layer1 = tf.sigmoid(tf.matmul(X, w1) + b1)    #hidden layer1\n",
    "\n",
    "w2 = tf.Variable(tf.random_normal([20, 20], dtype=tf.float64))\n",
    "b2 = tf.Variable(tf.random_normal([20], dtype=tf.float64))\n",
    "layer2 = tf.sigmoid(tf.matmul(layer1, w2) + b2)    #hidden layer2\n",
    "\n",
    "w3 = tf.Variable(tf.random_normal([20, 20], dtype=tf.float64))\n",
    "b3 = tf.Variable(tf.random_normal([20], dtype=tf.float64))\n",
    "layer3 = tf.sigmoid(tf.matmul(layer2, w3) + b3)    #hidden layer3\n",
    "\n",
    "w4 = tf.Variable(tf.random_normal([20, 1], dtype=tf.float64))\n",
    "b4 = tf.Variable(tf.random_normal([1], dtype=tf.float64))\n",
    "hypothesis = tf.sigmoid(tf.matmul(layer3, w4) + b4)\n",
    "\n",
    "#cost(H(x), y) = -(ylog(H(x)) + (1-y)log(1-H(x)))\n",
    "loss = -tf.reduce_mean(Y * tf.log(hypothesis) + (1 - Y) * tf.log(1 - hypothesis))\n",
    "\n",
    "train = tf.train.GradientDescentOptimizer(learning_rate).minimize(loss)\n",
    "\n",
    "predicted = tf.cast(hypothesis > 0.5, dtype=tf.float64)\n",
    "\n",
    "accuracy = tf.reduce_mean(tf.cast(tf.equal(predicted, Y), dtype=tf.float64))\n",
    "\n",
    "with tf.Session() as sess :\n",
    "    sess.run(tf.global_variables_initializer())\n",
    "    for step in range(epochs) :\n",
    "        loss_, acc_, _ = sess.run([loss, accuracy, train], feed_dict={X:x_data, Y:y_data})\n",
    "        los.append(loss_)\n",
    "        acc.append(acc_)\n",
    "        if step % 1000 == 0 :\n",
    "            print(\"Epoch : %.f, loss : %.4f\" % (step, loss_))\n",
    "    h, p, a = sess.run([hypothesis, predicted, accuracy], feed_dict={X:x_data, Y:y_data})\n",
    "    print(\"\\nHypothesis :\", h, \"\\nPredicted :\", p, \"\\nAccuracy :\", a)"
   ]
  },
  {
   "cell_type": "code",
   "execution_count": 7,
   "id": "21fd725f",
   "metadata": {},
   "outputs": [
    {
     "data": {
      "image/png": "[encoded data removed]",
      "text/plain": [
       "<Figure size 432x288 with 2 Axes>"
      ]
     },
     "metadata": {
      "needs_background": "light"
     },
     "output_type": "display_data"
    }
   ],
   "source": [
    "graph()"
   ]
  }
 ],
 "metadata": {
  "kernelspec": {
   "display_name": "Python 3 (ipykernel)",
   "language": "python",
   "name": "python3"
  },
  "language_info": {
   "codemirror_mode": {
    "name": "ipython",
    "version": 3
   },
   "file_extension": ".py",
   "mimetype": "text/x-python",
   "name": "python",
   "nbconvert_exporter": "python",
   "pygments_lexer": "ipython3",
   "version": "3.8.11"
  }
 },
 "nbformat": 4,
 "nbformat_minor": 5
}
